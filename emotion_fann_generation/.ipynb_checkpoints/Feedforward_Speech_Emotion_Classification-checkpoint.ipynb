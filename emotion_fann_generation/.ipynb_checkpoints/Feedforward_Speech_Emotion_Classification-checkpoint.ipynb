{
 "cells": [
  {
   "cell_type": "code",
   "execution_count": 62,
   "metadata": {},
   "outputs": [],
   "source": [
    "import numpy as np\n",
    "import pandas as pd\n",
    "import keras\n",
    "import sklearn\n",
    "import keras.utils\n",
    "import sys\n",
    "import os\n",
    "import python_speech_features\n",
    "from keras import Sequential, regularizers\n",
    "from keras.layers import Dense\n",
    "from sklearn.metrics import accuracy_score, confusion_matrix\n",
    "from sklearn.model_selection import KFold, train_test_split\n",
    "from numpy import argmax\n",
    "from scipy.io.wavfile import read"
   ]
  },
  {
   "cell_type": "markdown",
   "metadata": {},
   "source": [
    "# Helper Functions"
   ]
  },
  {
   "cell_type": "code",
   "execution_count": 2,
   "metadata": {},
   "outputs": [],
   "source": [
    "def from_categorical(one_hot):\n",
    "    return [argmax(x) for x in one_hot]"
   ]
  },
  {
   "cell_type": "code",
   "execution_count": 3,
   "metadata": {},
   "outputs": [],
   "source": [
    "def binarize(labels):\n",
    "    return [1 if x == 1 else 0 for x in labels]"
   ]
  },
  {
   "cell_type": "code",
   "execution_count": 4,
   "metadata": {},
   "outputs": [],
   "source": [
    "def to_fann_dat(features, classes, output_path):\n",
    "  matrix = df.values\n",
    "  if len(features) != len(classes):\n",
    "    raise Exception(\"Sample lengths not the same\")\n",
    "  num_samples = len(features)\n",
    "  num_features = features.shape[1]\n",
    "  num_classes = classes.shape[1]\n",
    "  \n",
    "  try:\n",
    "    f = open(output_path, 'w')\n",
    "    \n",
    "    # Write first line\n",
    "    header_line = '{} {} {}\\n'.format(num_samples, num_features, num_classes)\n",
    "    f.write(header_line)\n",
    "    \n",
    "    # Write remaining lines\n",
    "    for i in range(num_samples):\n",
    "      input_line = ''\n",
    "      for j in range(num_features):\n",
    "        input_line += '{} '.format(features[i][j])\n",
    "      input_line += '\\n'\n",
    "      \n",
    "      output_line = ''\n",
    "      for j in range(num_classes):\n",
    "        output_line += '{} '.format(classes[i][j])\n",
    "      output_line += '\\n'\n",
    "      f.write(input_line)\n",
    "      f.write(output_line)\n",
    "  finally:\n",
    "    f.close()"
   ]
  },
  {
   "cell_type": "markdown",
   "metadata": {},
   "source": [
    "# Definitions"
   ]
  },
  {
   "cell_type": "code",
   "execution_count": 31,
   "metadata": {},
   "outputs": [],
   "source": [
    "EMOTIONS = {'W':('Anger', 0),\n",
    "            'L':('Boredom', 1),\n",
    "            'E':('Disgust', 2),\n",
    "            'A':('Fear', 3),\n",
    "            'F':('Happiness', 4),\n",
    "            'T':('Sadness', 5),\n",
    "            'N':('Neutral', 6)\n",
    "           }"
   ]
  },
  {
   "cell_type": "markdown",
   "metadata": {},
   "source": [
    "Positions 1-2: number of speaker\n",
    "\n",
    "Positions 3-5: code for text\n",
    "\n",
    "Position 6: emotion (sorry, letter stands for german emotion word)\n",
    "\n",
    "Position 7: if there are more than two versions these are numbered a, b, c ...."
   ]
  },
  {
   "cell_type": "code",
   "execution_count": 26,
   "metadata": {},
   "outputs": [],
   "source": [
    "FILENAME_INDICES = {'speaker':range(0, 1),\n",
    "                    'text':range(2,4),\n",
    "                    'emotion':5,\n",
    "                    'version':6}"
   ]
  },
  {
   "cell_type": "code",
   "execution_count": 27,
   "metadata": {},
   "outputs": [],
   "source": [
    "PATH = './EmoDB/wav/'"
   ]
  },
  {
   "cell_type": "markdown",
   "metadata": {},
   "source": [
    "# Import Data"
   ]
  },
  {
   "cell_type": "code",
   "execution_count": 60,
   "metadata": {},
   "outputs": [
    {
     "name": "stderr",
     "output_type": "stream",
     "text": [
      "/usr/local/anaconda3/lib/python3.6/site-packages/scipy/io/wavfile.py:273: WavFileWarning: Chunk (non-data) not understood, skipping it.\n",
      "  WavFileWarning)\n"
     ]
    }
   ],
   "source": [
    "outputs = []\n",
    "inputs = []\n",
    "\n",
    "for filename in os.listdir(PATH):\n",
    "    if filename.endswith(\".wav\"):\n",
    "        # Output label\n",
    "        emotion = EMOTIONS[filename[FILENAME_INDICES['emotion']]]\n",
    "        outputs.append(emotion)\n",
    "        # Input .wav\n",
    "        wav = read(PATH + filename)\n",
    "        inputs.append(np.array(wav[1],dtype=float))\n",
    "    else:\n",
    "        raise Exception('Invalid emotion label')"
   ]
  },
  {
   "cell_type": "code",
   "execution_count": null,
   "metadata": {},
   "outputs": [],
   "source": []
  }
 ],
 "metadata": {
  "kernelspec": {
   "display_name": "Python 3",
   "language": "python",
   "name": "python3"
  },
  "language_info": {
   "codemirror_mode": {
    "name": "ipython",
    "version": 3
   },
   "file_extension": ".py",
   "mimetype": "text/x-python",
   "name": "python",
   "nbconvert_exporter": "python",
   "pygments_lexer": "ipython3",
   "version": "3.6.4"
  }
 },
 "nbformat": 4,
 "nbformat_minor": 2
}
