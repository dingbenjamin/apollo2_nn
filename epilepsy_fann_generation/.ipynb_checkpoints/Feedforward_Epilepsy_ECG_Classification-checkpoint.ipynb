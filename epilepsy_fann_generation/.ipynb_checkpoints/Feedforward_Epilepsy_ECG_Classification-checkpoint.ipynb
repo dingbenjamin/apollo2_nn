{
 "cells": [
  {
   "cell_type": "markdown",
   "metadata": {
    "colab_type": "text",
    "id": "fEogP4kbbelb"
   },
   "source": [
    "# Train the Neural Network"
   ]
  },
  {
   "cell_type": "code",
   "execution_count": 1,
   "metadata": {
    "colab": {
     "autoexec": {
      "startup": false,
      "wait_interval": 0
     },
     "base_uri": "https://localhost:8080/",
     "height": 34
    },
    "colab_type": "code",
    "executionInfo": {
     "elapsed": 2433,
     "status": "ok",
     "timestamp": 1528562588041,
     "user": {
      "displayName": "Benjamin Ding",
      "photoUrl": "https://lh3.googleusercontent.com/a/default-user=s128",
      "userId": "116204970843321702692"
     },
     "user_tz": -120
    },
    "id": "PfMAElhabeld",
    "outputId": "21fb0304-bcb0-4f9e-99da-d9c27b76c5e8"
   },
   "outputs": [
    {
     "name": "stderr",
     "output_type": "stream",
     "text": [
      "Using TensorFlow backend.\n"
     ]
    }
   ],
   "source": [
    "import numpy as np\n",
    "import pandas as pd\n",
    "import keras\n",
    "import sklearn\n",
    "import keras.utils\n",
    "import sys\n",
    "from keras import Sequential, regularizers\n",
    "from keras.layers import Dense\n",
    "from sklearn.metrics import accuracy_score, confusion_matrix\n",
    "from sklearn.model_selection import KFold, train_test_split\n",
    "from numpy import argmax"
   ]
  },
  {
   "cell_type": "markdown",
   "metadata": {
    "colab_type": "text",
    "id": "-1PVL_Jqbelg"
   },
   "source": [
    "Useful functions"
   ]
  },
  {
   "cell_type": "code",
   "execution_count": 0,
   "metadata": {
    "colab": {
     "autoexec": {
      "startup": false,
      "wait_interval": 0
     }
    },
    "colab_type": "code",
    "id": "pyn9Ylgybelh"
   },
   "outputs": [],
   "source": [
    "def from_categorical(one_hot):\n",
    "    return [argmax(x) for x in one_hot]"
   ]
  },
  {
   "cell_type": "code",
   "execution_count": 0,
   "metadata": {
    "colab": {
     "autoexec": {
      "startup": false,
      "wait_interval": 0
     }
    },
    "colab_type": "code",
    "id": "ALPQKbv5beli"
   },
   "outputs": [],
   "source": [
    "def binarize(labels):\n",
    "    return [1 if x == 1 else 0 for x in labels]"
   ]
  },
  {
   "cell_type": "markdown",
   "metadata": {
    "colab_type": "text",
    "id": "Qz-0LyUmbmH5"
   },
   "source": [
    "Upload files (Colaboratory)"
   ]
  },
  {
   "cell_type": "code",
   "execution_count": 0,
   "metadata": {
    "colab": {
     "autoexec": {
      "startup": false,
      "wait_interval": 0
     }
    },
    "colab_type": "code",
    "id": "O7sjjIPreRNQ"
   },
   "outputs": [],
   "source": [
    "!pip install -U -q PyDrive ## you will have install for every colab session\n",
    "\n",
    "from pydrive.auth import GoogleAuth\n",
    "from pydrive.drive import GoogleDrive\n",
    "from google.colab import auth\n",
    "from oauth2client.client import GoogleCredentials\n",
    "\n",
    "# 1. Authenticate and create the PyDrive client.\n",
    "auth.authenticate_user()\n",
    "gauth = GoogleAuth()\n",
    "gauth.credentials = GoogleCredentials.get_application_default()\n",
    "drive = GoogleDrive(gauth)"
   ]
  },
  {
   "cell_type": "code",
   "execution_count": 0,
   "metadata": {
    "colab": {
     "autoexec": {
      "startup": false,
      "wait_interval": 0
     }
    },
    "colab_type": "code",
    "id": "UcdN2lcaborY"
   },
   "outputs": [],
   "source": [
    "from google.colab import files\n",
    "epilepsy_import = drive.CreateFile({'id':'1D7t70Eou3vtbzAY5op2dwFToUgdwCf5s'})\n",
    "epilepsy_import.GetContentFile('Seizure.csv')"
   ]
  },
  {
   "cell_type": "markdown",
   "metadata": {
    "colab_type": "text",
    "id": "GlFI1Ohsbell"
   },
   "source": [
    "Read in data"
   ]
  },
  {
   "cell_type": "code",
   "execution_count": 0,
   "metadata": {
    "colab": {
     "autoexec": {
      "startup": false,
      "wait_interval": 0
     }
    },
    "colab_type": "code",
    "id": "n9T3yCSqbelm"
   },
   "outputs": [],
   "source": [
    "df = pd.read_csv('Seizure.csv').drop(columns=[\"Unnamed: 0\"])"
   ]
  },
  {
   "cell_type": "code",
   "execution_count": 0,
   "metadata": {
    "colab": {
     "autoexec": {
      "startup": false,
      "wait_interval": 0
     }
    },
    "colab_type": "code",
    "id": "d3uQS7Rcbeln"
   },
   "outputs": [],
   "source": [
    "y_all = df[\"y\"]\n",
    "x_all = df.drop(columns=[\"y\"])"
   ]
  },
  {
   "cell_type": "markdown",
   "metadata": {
    "colab_type": "text",
    "id": "2HUKvqDubelq"
   },
   "source": [
    "Normalise"
   ]
  },
  {
   "cell_type": "code",
   "execution_count": 0,
   "metadata": {
    "colab": {
     "autoexec": {
      "startup": false,
      "wait_interval": 0
     }
    },
    "colab_type": "code",
    "id": "dbIA-wYYbelq"
   },
   "outputs": [],
   "source": [
    "x_array = sklearn.preprocessing.scale(x_all)"
   ]
  },
  {
   "cell_type": "markdown",
   "metadata": {
    "colab_type": "text",
    "id": "CjcLGx9ybelt"
   },
   "source": [
    "Split data into train/test setes"
   ]
  },
  {
   "cell_type": "code",
   "execution_count": 0,
   "metadata": {
    "colab": {
     "autoexec": {
      "startup": false,
      "wait_interval": 0
     }
    },
    "colab_type": "code",
    "id": "DyQ3pK3Cbelu"
   },
   "outputs": [],
   "source": [
    "x_train_split, x_test_split, y_train_split, y_test_split = train_test_split(x_array, y_all, test_size=0.33, random_state=42)"
   ]
  },
  {
   "cell_type": "markdown",
   "metadata": {
    "colab_type": "text",
    "id": "VoTzSDu4belw"
   },
   "source": [
    "Index class labels from zero"
   ]
  },
  {
   "cell_type": "code",
   "execution_count": 0,
   "metadata": {
    "colab": {
     "autoexec": {
      "startup": false,
      "wait_interval": 0
     }
    },
    "colab_type": "code",
    "id": "7jvw8Lqabelx"
   },
   "outputs": [],
   "source": [
    "# y_train_split -= 1\n",
    "# y_test_split -= 1"
   ]
  },
  {
   "cell_type": "markdown",
   "metadata": {
    "colab_type": "text",
    "id": "x8I7FOwKbelz"
   },
   "source": [
    "Create the feedforward neural network"
   ]
  },
  {
   "cell_type": "markdown",
   "metadata": {
    "colab_type": "text",
    "id": "CQlKIQTtbel1"
   },
   "source": [
    "## Multi-class classification (unused)"
   ]
  },
  {
   "cell_type": "code",
   "execution_count": 0,
   "metadata": {
    "colab": {
     "autoexec": {
      "startup": false,
      "wait_interval": 0
     }
    },
    "colab_type": "code",
    "id": "Rpje3uOobel1"
   },
   "outputs": [],
   "source": [
    "# model = Sequential()\n",
    "# model.add(Dense(88, \n",
    "#                 activation='sigmoid', \n",
    "#                 input_dim=178))\n",
    "# model.add(Dense(88, activation='sigmoid'))\n",
    "# model.add(Dense(5, activation='softmax'))\n",
    "# model.compile(loss='categorical_crossentropy',\n",
    "#                 optimizer=keras.optimizers.Adadelta(),\n",
    "#                 metrics=['accuracy'])"
   ]
  },
  {
   "cell_type": "code",
   "execution_count": 0,
   "metadata": {
    "colab": {
     "autoexec": {
      "startup": false,
      "wait_interval": 0
     }
    },
    "colab_type": "code",
    "id": "qUzykxOzbel3"
   },
   "outputs": [],
   "source": [
    "# y_train_split_one_hot = keras.utils.to_categorical(y_train_split, num_classes=5)\n",
    "# y_test_split_one_hot = keras.utils.to_categorical(y_test_split, num_classes=5)"
   ]
  },
  {
   "cell_type": "code",
   "execution_count": 0,
   "metadata": {
    "colab": {
     "autoexec": {
      "startup": false,
      "wait_interval": 0
     }
    },
    "colab_type": "code",
    "id": "3wLjKnp0bel6"
   },
   "outputs": [],
   "source": [
    "# model.fit(x_train_split, y_train_split_one_hot, epochs=32, batch_size=16)"
   ]
  },
  {
   "cell_type": "code",
   "execution_count": 0,
   "metadata": {
    "colab": {
     "autoexec": {
      "startup": false,
      "wait_interval": 0
     }
    },
    "colab_type": "code",
    "id": "zjNBH_n1bel-"
   },
   "outputs": [],
   "source": [
    "# y_test_split_predict = from_categorical(model.predict(x_test_split))\n",
    "# acc = accuracy_score(y_test_split_predict, y_test_split)"
   ]
  },
  {
   "cell_type": "code",
   "execution_count": 0,
   "metadata": {
    "colab": {
     "autoexec": {
      "startup": false,
      "wait_interval": 0
     }
    },
    "colab_type": "code",
    "id": "MvGuqjq6bemB"
   },
   "outputs": [],
   "source": [
    "# acc"
   ]
  },
  {
   "cell_type": "markdown",
   "metadata": {
    "colab_type": "text",
    "id": "J7CFrVMybemE"
   },
   "source": [
    "## Binary Classification"
   ]
  },
  {
   "cell_type": "code",
   "execution_count": 0,
   "metadata": {
    "colab": {
     "autoexec": {
      "startup": false,
      "wait_interval": 0
     }
    },
    "colab_type": "code",
    "id": "gcAuXFh1bemG"
   },
   "outputs": [],
   "source": [
    "acc = 0"
   ]
  },
  {
   "cell_type": "markdown",
   "metadata": {
    "colab_type": "text",
    "id": "iUn-v8vkbemJ"
   },
   "source": [
    "Get a good random start"
   ]
  },
  {
   "cell_type": "code",
   "execution_count": 102,
   "metadata": {
    "colab": {
     "autoexec": {
      "startup": false,
      "wait_interval": 0
     },
     "base_uri": "https://localhost:8080/",
     "height": 34
    },
    "colab_type": "code",
    "executionInfo": {
     "elapsed": 10072,
     "status": "ok",
     "timestamp": 1528564890881,
     "user": {
      "displayName": "Benjamin Ding",
      "photoUrl": "https://lh3.googleusercontent.com/a/default-user=s128",
      "userId": "116204970843321702692"
     },
     "user_tz": -120
    },
    "id": "zsrIfCw3bemJ",
    "outputId": "ee6030d4-a39e-4d81-e23b-7956683d1949"
   },
   "outputs": [
    {
     "name": "stdout",
     "output_type": "stream",
     "text": [
      "0.8685111989459815\n"
     ]
    }
   ],
   "source": [
    "while acc < 0.85:\n",
    "    model_binary = Sequential()\n",
    "    model_binary.add(Dense(88, \n",
    "                    activation='sigmoid', \n",
    "                    input_dim=178,\n",
    "                    use_bias=False))\n",
    "    model_binary.add(Dense(2, activation='sigmoid', use_bias=False))\n",
    "    model_binary.compile(loss='categorical_crossentropy',\n",
    "                    optimizer=keras.optimizers.Adadelta(),\n",
    "                    metrics=['accuracy'])\n",
    "    \n",
    "    y_train_split_binary = keras.utils.to_categorical(binarize(y_train_split), num_classes=2)\n",
    "    y_test_split_binary = binarize(y_test_split)\n",
    "    \n",
    "    model_binary.fit(x_train_split, y_train_split_binary, epochs=31, verbose=0)\n",
    "    \n",
    "    y_test_split_predict_binary = from_categorical(model_binary.predict(x_test_split))\n",
    "    acc = accuracy_score(y_test_split_predict_binary, y_test_split_binary)\n",
    "    print(acc)\n",
    "    cm = confusion_matrix(y_test_split_predict_binary, y_test_split_binary)"
   ]
  },
  {
   "cell_type": "code",
   "execution_count": 0,
   "metadata": {
    "colab": {
     "autoexec": {
      "startup": false,
      "wait_interval": 0
     }
    },
    "colab_type": "code",
    "id": "omxfHiqrbemP"
   },
   "outputs": [],
   "source": [
    "model_binary.save_weights('model_binary.hdf5')"
   ]
  },
  {
   "cell_type": "markdown",
   "metadata": {
    "colab_type": "text",
    "id": "73zfwBRIbemQ"
   },
   "source": [
    "# Generate C code"
   ]
  },
  {
   "cell_type": "markdown",
   "metadata": {
    "colab_type": "text",
    "id": "HMh-ktj5bemR"
   },
   "source": [
    "### Helper functions"
   ]
  },
  {
   "cell_type": "code",
   "execution_count": 0,
   "metadata": {
    "colab": {
     "autoexec": {
      "startup": false,
      "wait_interval": 0
     }
    },
    "colab_type": "code",
    "id": "3oXyN1jZbemR"
   },
   "outputs": [],
   "source": [
    "from __future__ import print_function\n",
    "\n",
    "import h5py\n",
    "\n",
    "def print_structure(weight_file_path):\n",
    "    \"\"\"\n",
    "    Prints out the structure of HDF5 file.\n",
    "\n",
    "    Args:\n",
    "      weight_file_path (str) : Path to the file to analyze\n",
    "    \"\"\"\n",
    "    f = h5py.File(weight_file_path)\n",
    "    try:\n",
    "        if len(f.attrs.items()):\n",
    "            print(\"{} contains: \".format(weight_file_path))\n",
    "            print(\"Root attributes:\")\n",
    "        for key, value in f.attrs.items():\n",
    "            print(\"  {}: {}\".format(key, value))\n",
    "\n",
    "        if len(f.items())==0:\n",
    "            return \n",
    "\n",
    "        for layer, g in f.items():\n",
    "            print(\"  {}\".format(layer))\n",
    "            print(\"    Attributes:\")\n",
    "            for key, value in g.attrs.items():\n",
    "                print(\"      {}: {}\".format(key, value))\n",
    "\n",
    "            print(\"    Dataset:\")\n",
    "            for p_name in g.keys():\n",
    "                param = g[p_name]\n",
    "                subkeys = param.keys()\n",
    "                for k_name in param.keys():\n",
    "                    print(\"      {}/{}: {}\".format(p_name, k_name, param.get(k_name)[:]))\n",
    "    finally:\n",
    "        f.close()"
   ]
  },
  {
   "cell_type": "code",
   "execution_count": 0,
   "metadata": {
    "colab": {
     "autoexec": {
      "startup": false,
      "wait_interval": 0
     }
    },
    "colab_type": "code",
    "id": "8Ml8s0KhbemT"
   },
   "outputs": [],
   "source": [
    "def save_structure(weight_file_path):\n",
    "    f = h5py.File(weight_file_path)\n",
    "    weights = []\n",
    "    try:\n",
    "        if len(f.items())==0:\n",
    "            return \n",
    "\n",
    "        for layer, g in f.items():\n",
    "            for p_name in g.keys():\n",
    "                param = g[p_name]\n",
    "                subkeys = param.keys()\n",
    "                for k_name in param.keys():\n",
    "                    weights.append(param.get(k_name)[:])\n",
    "    finally:\n",
    "        f.close()\n",
    "        return weights"
   ]
  },
  {
   "cell_type": "code",
   "execution_count": 0,
   "metadata": {
    "colab": {
     "autoexec": {
      "startup": false,
      "wait_interval": 0
     }
    },
    "colab_type": "code",
    "id": "SAqgKAtsbemV"
   },
   "outputs": [],
   "source": [
    "def neurons(model):\n",
    "    weights = model.get_weights()\n",
    "    neurons = []\n",
    "    for weight_matrix in weights:\n",
    "        neurons.append(weight_matrix.shape[0])\n",
    "    return neurons"
   ]
  },
  {
   "cell_type": "code",
   "execution_count": 0,
   "metadata": {
    "colab": {
     "autoexec": {
      "startup": false,
      "wait_interval": 0
     }
    },
    "colab_type": "code",
    "id": "k_ap4xhSbemW"
   },
   "outputs": [],
   "source": [
    "def layers(model):\n",
    "    return len(neurons(model))"
   ]
  },
  {
   "cell_type": "code",
   "execution_count": 0,
   "metadata": {
    "colab": {
     "autoexec": {
      "startup": false,
      "wait_interval": 0
     }
    },
    "colab_type": "code",
    "id": "f21ByhVDbemY"
   },
   "outputs": [],
   "source": [
    "def weights(model):\n",
    "    weights = model.get_weights()\n",
    "    return sum([np.prod(layer.shape) for layer in weights])"
   ]
  },
  {
   "cell_type": "code",
   "execution_count": 0,
   "metadata": {
    "colab": {
     "autoexec": {
      "startup": false,
      "wait_interval": 0
     }
    },
    "colab_type": "code",
    "id": "PbK_oIKUbema"
   },
   "outputs": [],
   "source": [
    "def neuron_string(first_connection, last_connection, \n",
    "                 activation_steepness=0, activation_function=6):\n",
    "    string = \"{\" + str(first_connection) + \\\n",
    "    \", \" + str(last_connection) + \\\n",
    "    \", \" + str(activation_steepness) + \\\n",
    "    \", \" + str(activation_function) + \"}\"\n",
    "    return string"
   ]
  },
  {
   "cell_type": "code",
   "execution_count": 0,
   "metadata": {
    "colab": {
     "autoexec": {
      "startup": false,
      "wait_interval": 0
     }
    },
    "colab_type": "code",
    "id": "JtpgAyGzbemb"
   },
   "outputs": [],
   "source": [
    "def gen_neuron_array_string(model):\n",
    "    num_neurons = neurons(model)\n",
    "    neuron_array_string = 'fann_neuron fann_neurons[{}] = '.format(sum(num_neurons)) + '{'\n",
    "    for layer_index in range(len(num_neurons)):\n",
    "        # Input layer\n",
    "        if layer_index == 0:\n",
    "            for neuron in range(num_neurons[layer_index]):\n",
    "                neuron_array_string += neuron_string(0, 0, 0, 0) + \", \"\n",
    "            total_neurons = num_neurons[0]\n",
    "        else:\n",
    "            for neuron in range(num_neurons[layer_index]):\n",
    "                start_neuron = total_neurons\n",
    "                end_neuron = total_neurons + num_neurons[layer_index-1]\n",
    "                neuron_array_string += neuron_string(start_neuron, end_neuron, 1.00, 6) + \", \"\n",
    "                total_neurons = end_neuron\n",
    "    neuron_array_string = neuron_array_string[:-2] + '};'\n",
    "    return neuron_array_string"
   ]
  },
  {
   "cell_type": "code",
   "execution_count": 0,
   "metadata": {
    "colab": {
     "autoexec": {
      "startup": false,
      "wait_interval": 0
     }
    },
    "colab_type": "code",
    "id": "_cQvQFyrbeme"
   },
   "outputs": [],
   "source": [
    "def gen_layer_array_string(model):\n",
    "    num_neurons = neurons(model)\n",
    "    layer_array_string = 'fann_layer fann_layers[{}] = '.format(len(num_neurons)) + '{'\n",
    "    total_neurons = 0\n",
    "    for i in range(len(num_neurons)):\n",
    "        start, end = total_neurons, total_neurons + num_neurons[i]\n",
    "        layer_array_string += '{' + '{}, {}'.format(start, end) + '}, '\n",
    "        total_neurons = end\n",
    "    layer_array_string = layer_array_string[:-2] + '};'\n",
    "    return layer_array_string"
   ]
  },
  {
   "cell_type": "code",
   "execution_count": 0,
   "metadata": {
    "colab": {
     "autoexec": {
      "startup": false,
      "wait_interval": 0
     }
    },
    "colab_type": "code",
    "id": "5JftrhuWbemh"
   },
   "outputs": [],
   "source": [
    "def gen_weight_array_string(model):\n",
    "    weights = model.get_weights()\n",
    "    total_weights = sum([np.prod(layer.shape) for layer in weights])\n",
    "    weight_array_string = 'fann_type fann_weights[{}] = '.format(total_weights) + '{'\n",
    "    for weight_matrix in weights:\n",
    "        if len(weight_matrix.shape) == 1:\n",
    "            for i in range(len(weight_matrix)):\n",
    "                weight_array_string += str(weight_matrix[i]) + ', '\n",
    "        elif len(weight_matrix.shape) == 2:\n",
    "            for i in range(weight_matrix.shape[0]):\n",
    "                for j in range(weight_matrix.shape[1]):\n",
    "                    weight_array_string += str(weight_matrix[i][j]) + ', '\n",
    "        else:\n",
    "            raise Exception('Weight matrix shape is incorrect')\n",
    "    weight_array_string = weight_array_string[:-2] + '};'\n",
    "    return weight_array_string"
   ]
  },
  {
   "cell_type": "markdown",
   "metadata": {
    "colab_type": "text",
    "id": "nKECAN8Hbemk"
   },
   "source": [
    "## Generate fann_net.h"
   ]
  },
  {
   "cell_type": "code",
   "execution_count": 0,
   "metadata": {
    "colab": {
     "autoexec": {
      "startup": false,
      "wait_interval": 0
     }
    },
    "colab_type": "code",
    "id": "9hpE08wJbemk"
   },
   "outputs": [],
   "source": [
    "def gen_fann_net_h(model):\n",
    "    try:\n",
    "        num_neurons = sum(neurons(model))\n",
    "        num_weights = weights(model)\n",
    "        num_layers = layers(model)        \n",
    "        f = open('fann_net.h', 'w')\n",
    "        f.write('#ifndef FANN_FANN_NET_H_\\n')\n",
    "        f.write('#define FANN_FANN_NET_H_\\n\\n')\n",
    "        f.write('#include \"fann.h\"\\n')\n",
    "        f.write('#include \"fann_structs.h\"\\n\\n')\n",
    "        f.write('extern const enum fann_nettype_enum network_type;\\n\\n')\n",
    "        f.write('extern fann_neuron fann_neurons[' + str(num_neurons) + '];\\n\\n')\n",
    "        f.write('extern fann_type fann_weights[' + str(num_weights) + '];\\n\\n')\n",
    "        f.write('extern fann_layer fann_layers[' + str(num_layers) + '];\\n\\n')\n",
    "        f.write('#endif // FANN_FANN_NET_H')\n",
    "    finally:\n",
    "        f.close()"
   ]
  },
  {
   "cell_type": "markdown",
   "metadata": {
    "colab_type": "text",
    "id": "6yf3K6mnbemo"
   },
   "source": [
    "## Generate fann_net.c"
   ]
  },
  {
   "cell_type": "code",
   "execution_count": 0,
   "metadata": {
    "colab": {
     "autoexec": {
      "startup": false,
      "wait_interval": 0
     }
    },
    "colab_type": "code",
    "id": "OFJXhrunbemo"
   },
   "outputs": [],
   "source": [
    "def gen_fann_net_c(model):\n",
    "    try:\n",
    "        f = open('fann_net.c', 'w')\n",
    "        f.write('#include \"fann_net.h\"\\n\\n')\n",
    "        f.write('const enum fann_nettype_enum network_type = 0;\\n\\n')\n",
    "        neuron_array_string = gen_neuron_array_string(model)\n",
    "        weight_array_string = gen_weight_array_string(model) \n",
    "        layer_array_string = gen_layer_array_string(model)\n",
    "        f.write(neuron_array_string + \"\\n\\n\")\n",
    "        f.write(weight_array_string + \"\\n\\n\")\n",
    "        f.write(layer_array_string + \"\\n\\n\")\n",
    "    finally:\n",
    "        f.close()"
   ]
  },
  {
   "cell_type": "markdown",
   "metadata": {
    "colab_type": "text",
    "id": "YsT36TPAbemr"
   },
   "source": [
    "## Run Generate Functions"
   ]
  },
  {
   "cell_type": "code",
   "execution_count": 0,
   "metadata": {
    "colab": {
     "autoexec": {
      "startup": false,
      "wait_interval": 0
     }
    },
    "colab_type": "code",
    "id": "pOVTr_Z9bemr"
   },
   "outputs": [],
   "source": [
    "gen_fann_net_h(model_binary)"
   ]
  },
  {
   "cell_type": "code",
   "execution_count": 0,
   "metadata": {
    "colab": {
     "autoexec": {
      "startup": false,
      "wait_interval": 0
     }
    },
    "colab_type": "code",
    "id": "H9_4f-b3bemx"
   },
   "outputs": [],
   "source": [
    "gen_fann_net_c(model_binary)"
   ]
  },
  {
   "cell_type": "markdown",
   "metadata": {
    "colab_type": "text",
    "id": "eI2tInBybem0"
   },
   "source": [
    "# Generate Test Data"
   ]
  },
  {
   "cell_type": "code",
   "execution_count": 0,
   "metadata": {
    "colab": {
     "autoexec": {
      "startup": false,
      "wait_interval": 0
     }
    },
    "colab_type": "code",
    "id": "vnWLM5mUbem1"
   },
   "outputs": [],
   "source": [
    "def gen_fann_data_h(features, classes, num_samples):\n",
    "    try:\n",
    "        features = features[:num_samples, :]\n",
    "        classes = classes[:num_samples]\n",
    "        if features.shape[0] != len(classes):\n",
    "            raise Exception(\"Number of samples do not match\")\n",
    "            \n",
    "        num_inputs = np.product(features.shape)\n",
    "        num_outputs = len(classes)\n",
    "        input_array_string = 'extern fann_type test_data_input[{}];\\n\\n'.format(num_inputs)\n",
    "        output_array_string = 'extern const int test_data_output[{}];\\n\\n'.format(num_outputs)        \n",
    "        f = open('fann_data.h', 'w')\n",
    "        f.write('#ifndef FANN_FANN_TEST_DATA_H_\\n')\n",
    "        f.write('#define FANN_FANN_TEST_DATA_H_\\n\\n')\n",
    "        f.write(input_array_string)\n",
    "        f.write(output_array_string)\n",
    "        f.write('#endif // FANN_FANN_TEST_DATA_H_')\n",
    "    finally:\n",
    "        f.close()"
   ]
  },
  {
   "cell_type": "code",
   "execution_count": 0,
   "metadata": {
    "colab": {
     "autoexec": {
      "startup": false,
      "wait_interval": 0
     }
    },
    "colab_type": "code",
    "id": "065jZkRSbem4"
   },
   "outputs": [],
   "source": [
    "def gen_fann_data_c(features, classes, num_samples):\n",
    "    try:\n",
    "        features = features[:num_samples, :]\n",
    "        classes = classes[:num_samples]\n",
    "        num_features = features.shape[1]\n",
    "        if features.shape[0] != len(classes):\n",
    "            raise Exception(\"Number of samples do not match\")\n",
    "            \n",
    "        num_inputs = np.product(features.shape)\n",
    "        num_outputs = len(classes)\n",
    "        input_array_string = 'fann_type test_data_input[{}] = '.format(num_inputs) + '{'\n",
    "        output_array_string = 'const int test_data_output[{}] = '.format(num_outputs) + '{'\n",
    "        \n",
    "        for i in range(num_samples):\n",
    "            for j in range(num_features):\n",
    "                input_array_string += '{}, '.format(features[i][j])\n",
    "        input_array_string = input_array_string[:-2] + '};\\n\\n'\n",
    "        \n",
    "        for i in range(num_samples):\n",
    "            output_array_string += '{}, '.format(classes[i])\n",
    "        output_array_string = output_array_string[:-2] + '};'\n",
    "            \n",
    "        f = open('fann_data.c', 'w')\n",
    "        f.write('#include \"fann_data.h\"\\n\\n')\n",
    "        f.write(input_array_string)\n",
    "        f.write(output_array_string)\n",
    "    finally:\n",
    "        f.close()"
   ]
  },
  {
   "cell_type": "markdown",
   "metadata": {
    "colab_type": "text",
    "id": "pLE3mnYBbem7"
   },
   "source": [
    "## Run Generate Functions"
   ]
  },
  {
   "cell_type": "code",
   "execution_count": 0,
   "metadata": {
    "colab": {
     "autoexec": {
      "startup": false,
      "wait_interval": 0
     }
    },
    "colab_type": "code",
    "id": "01Vrwfhgbem8"
   },
   "outputs": [],
   "source": [
    "gen_fann_data_h(x_test_split, y_test_split_binary, 100)\n",
    "gen_fann_data_c(x_test_split, y_test_split_binary, 100)"
   ]
  },
  {
   "cell_type": "code",
   "execution_count": 0,
   "metadata": {
    "colab": {
     "autoexec": {
      "startup": false,
      "wait_interval": 0
     }
    },
    "colab_type": "code",
    "id": "kweJDEgJbem9"
   },
   "outputs": [],
   "source": []
  },
  {
   "cell_type": "markdown",
   "metadata": {
    "colab_type": "text",
    "id": "xRtl-JVMe4yj"
   },
   "source": [
    "# Download files"
   ]
  },
  {
   "cell_type": "code",
   "execution_count": 0,
   "metadata": {
    "colab": {
     "autoexec": {
      "startup": false,
      "wait_interval": 0
     }
    },
    "colab_type": "code",
    "id": "XcvsiTWfe6DT"
   },
   "outputs": [],
   "source": [
    "files.download('fann_net.h')\n",
    "files.download('fann_net.c')"
   ]
  },
  {
   "cell_type": "code",
   "execution_count": 0,
   "metadata": {
    "colab": {
     "autoexec": {
      "startup": false,
      "wait_interval": 0
     }
    },
    "colab_type": "code",
    "id": "bD958flXe-p7"
   },
   "outputs": [],
   "source": [
    "files.download('fann_data.h')\n",
    "files.download('fann_data.c')"
   ]
  },
  {
   "cell_type": "markdown",
   "metadata": {
    "colab_type": "text",
    "id": "_CnRNhLCof0N"
   },
   "source": [
    "# Data Format for FANN tool"
   ]
  },
  {
   "cell_type": "code",
   "execution_count": 0,
   "metadata": {
    "colab": {
     "autoexec": {
      "startup": false,
      "wait_interval": 0
     }
    },
    "colab_type": "code",
    "id": "qaoKvymOojRI"
   },
   "outputs": [],
   "source": [
    "def to_fann_dat(features, classes, output_path):\n",
    "  matrix = df.values\n",
    "  if len(features) != len(classes):\n",
    "    raise Exception(\"Sample lengths not the same\")\n",
    "  num_samples = len(features)\n",
    "  num_features = features.shape[1]\n",
    "  num_classes = classes.shape[1]\n",
    "  \n",
    "  try:\n",
    "    f = open(output_path, 'w')\n",
    "    \n",
    "    # Write first line\n",
    "    header_line = '{} {} {}\\n'.format(num_samples, num_features, num_classes)\n",
    "    f.write(header_line)\n",
    "    \n",
    "    # Write remaining lines\n",
    "    for i in range(num_samples):\n",
    "      input_line = ''\n",
    "      for j in range(num_features):\n",
    "        input_line += '{} '.format(features[i][j])\n",
    "      input_line += '\\n'\n",
    "      \n",
    "      output_line = ''\n",
    "      for j in range(num_classes):\n",
    "        output_line += '{} '.format(classes[i][j])\n",
    "      output_line += '\\n'\n",
    "      f.write(input_line)\n",
    "      f.write(output_line)\n",
    "  finally:\n",
    "    f.close()"
   ]
  },
  {
   "cell_type": "code",
   "execution_count": 0,
   "metadata": {
    "colab": {
     "autoexec": {
      "startup": false,
      "wait_interval": 0
     }
    },
    "colab_type": "code",
    "id": "mGCGgyFipG0o"
   },
   "outputs": [],
   "source": [
    "x_train_fann_tool = x_train_split\n",
    "y_train_fann_tool = keras.utils.to_categorical(binarize(y_train_split), num_classes=2)\n",
    "\n",
    "x_test_fann_tool = x_test_split\n",
    "y_test_fann_tool = keras.utils.to_categorical(binarize(y_test_split), num_classes=2)"
   ]
  },
  {
   "cell_type": "code",
   "execution_count": 0,
   "metadata": {
    "colab": {
     "autoexec": {
      "startup": false,
      "wait_interval": 0
     }
    },
    "colab_type": "code",
    "id": "b6VlBe5qsMyr"
   },
   "outputs": [],
   "source": [
    "to_fann_dat(x_train_fann_tool, y_train_fann_tool, 'fann_tool_train.dat')\n",
    "to_fann_dat(x_test_fann_tool, y_test_fann_tool, 'fann_tool_test.dat')"
   ]
  },
  {
   "cell_type": "code",
   "execution_count": 0,
   "metadata": {
    "colab": {
     "autoexec": {
      "startup": false,
      "wait_interval": 0
     }
    },
    "colab_type": "code",
    "id": "RF4LPXrCsit5"
   },
   "outputs": [],
   "source": [
    "files.download('fann_tool_train.dat')\n",
    "files.download('fann_tool_test.dat')"
   ]
  },
  {
   "cell_type": "markdown",
   "metadata": {
    "colab_type": "text",
    "id": "L8M411vUiocy"
   },
   "source": [
    "# Test"
   ]
  },
  {
   "cell_type": "code",
   "execution_count": 125,
   "metadata": {
    "colab": {
     "autoexec": {
      "startup": false,
      "wait_interval": 0
     },
     "base_uri": "https://localhost:8080/",
     "height": 136
    },
    "colab_type": "code",
    "executionInfo": {
     "elapsed": 628,
     "status": "ok",
     "timestamp": 1528565178597,
     "user": {
      "displayName": "Benjamin Ding",
      "photoUrl": "https://lh3.googleusercontent.com/a/default-user=s128",
      "userId": "116204970843321702692"
     },
     "user_tz": -120
    },
    "id": "dhJQf-reipWu",
    "outputId": "b8ea5914-2d78-450d-e73f-e1064650654a"
   },
   "outputs": [
    {
     "data": {
      "text/plain": [
       "array([[0.18113823, 0.0026138 ],\n",
       "       [0.37766486, 0.00513022],\n",
       "       [0.99862564, 0.01753486],\n",
       "       ...,\n",
       "       [0.4665092 , 0.00333333],\n",
       "       [0.9896712 , 0.09140327],\n",
       "       [0.97911775, 0.05582176]], dtype=float32)"
      ]
     },
     "execution_count": 125,
     "metadata": {
      "tags": []
     },
     "output_type": "execute_result"
    }
   ],
   "source": [
    "model_binary.predict(x_test_split)"
   ]
  },
  {
   "cell_type": "code",
   "execution_count": 136,
   "metadata": {
    "colab": {
     "autoexec": {
      "startup": false,
      "wait_interval": 0
     },
     "base_uri": "https://localhost:8080/",
     "height": 34
    },
    "colab_type": "code",
    "executionInfo": {
     "elapsed": 517,
     "status": "ok",
     "timestamp": 1528566606847,
     "user": {
      "displayName": "Benjamin Ding",
      "photoUrl": "https://lh3.googleusercontent.com/a/default-user=s128",
      "userId": "116204970843321702692"
     },
     "user_tz": -120
    },
    "id": "dk-ZFq2XiuPG",
    "outputId": "110e1528-6985-4fe7-b751-9927ef43ce2e"
   },
   "outputs": [
    {
     "data": {
      "text/plain": [
       "[1]"
      ]
     },
     "execution_count": 136,
     "metadata": {
      "tags": []
     },
     "output_type": "execute_result"
    }
   ],
   "source": [
    "binarize([1])"
   ]
  },
  {
   "cell_type": "code",
   "execution_count": 137,
   "metadata": {
    "colab": {
     "autoexec": {
      "startup": false,
      "wait_interval": 0
     },
     "base_uri": "https://localhost:8080/",
     "height": 136
    },
    "colab_type": "code",
    "executionInfo": {
     "elapsed": 471,
     "status": "ok",
     "timestamp": 1528566684452,
     "user": {
      "displayName": "Benjamin Ding",
      "photoUrl": "https://lh3.googleusercontent.com/a/default-user=s128",
      "userId": "116204970843321702692"
     },
     "user_tz": -120
    },
    "id": "d5d_FoAzixNI",
    "outputId": "399aaa7a-4653-448a-f14d-0c8b7c13c4c8"
   },
   "outputs": [
    {
     "data": {
      "text/plain": [
       "array([[1., 0.],\n",
       "       [1., 0.],\n",
       "       [0., 1.],\n",
       "       ...,\n",
       "       [1., 0.],\n",
       "       [0., 1.],\n",
       "       [1., 0.]], dtype=float32)"
      ]
     },
     "execution_count": 137,
     "metadata": {
      "tags": []
     },
     "output_type": "execute_result"
    }
   ],
   "source": [
    "keras.utils.to_categorical(binarize(y_train_split), num_classes=2)"
   ]
  },
  {
   "cell_type": "code",
   "execution_count": 0,
   "metadata": {
    "colab": {
     "autoexec": {
      "startup": false,
      "wait_interval": 0
     }
    },
    "colab_type": "code",
    "id": "6Xhz8CjOrJjd"
   },
   "outputs": [],
   "source": []
  }
 ],
 "metadata": {
  "colab": {
   "collapsed_sections": [
    "CQlKIQTtbel1",
    "HMh-ktj5bemR",
    "nKECAN8Hbemk",
    "6yf3K6mnbemo",
    "YsT36TPAbemr",
    "pLE3mnYBbem7"
   ],
   "default_view": {},
   "name": "Feedforward Epilepsy ECG Classification.ipynb",
   "provenance": [],
   "version": "0.3.2",
   "views": {}
  },
  "kernelspec": {
   "display_name": "Python 3",
   "language": "python",
   "name": "python3"
  },
  "language_info": {
   "codemirror_mode": {
    "name": "ipython",
    "version": 3
   },
   "file_extension": ".py",
   "mimetype": "text/x-python",
   "name": "python",
   "nbconvert_exporter": "python",
   "pygments_lexer": "ipython3",
   "version": "3.6.4"
  }
 },
 "nbformat": 4,
 "nbformat_minor": 1
}
